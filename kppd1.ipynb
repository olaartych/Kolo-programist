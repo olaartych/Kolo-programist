{
 "cells": [
  {
   "cell_type": "code",
   "execution_count": 2,
   "metadata": {
    "collapsed": false
   },
   "outputs": [
    {
     "name": "stdout",
     "output_type": "stream",
     "text": [
      "Jak sie nazywasz?Ola\n",
      "Ile masz lat?22\n",
      "Nazywasz się Ola i masz 22 lata.\n"
     ]
    }
   ],
   "source": [
    "jak_im=input('Jak sie nazywasz?')\n",
    "ile_l=input('Ile masz lat?')\n",
    "print (\"Nazywasz się\",jak_im,\"i masz\",ile_l,\"lata.\")"
   ]
  },
  {
   "cell_type": "code",
   "execution_count": null,
   "metadata": {
    "collapsed": true
   },
   "outputs": [],
   "source": []
  }
 ],
 "metadata": {
  "kernelspec": {
   "display_name": "Python 3",
   "language": "python",
   "name": "python3"
  },
  "language_info": {
   "codemirror_mode": {
    "name": "ipython",
    "version": 3
   },
   "file_extension": ".py",
   "mimetype": "text/x-python",
   "name": "python",
   "nbconvert_exporter": "python",
   "pygments_lexer": "ipython3",
   "version": "3.6.0"
  }
 },
 "nbformat": 4,
 "nbformat_minor": 2
}
